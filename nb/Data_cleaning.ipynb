{
 "cells": [
  {
   "cell_type": "code",
   "execution_count": 1,
   "id": "71b4797b",
   "metadata": {},
   "outputs": [],
   "source": [
    "# import necessary libraries\n",
    "import pandas as pd\n",
    "import os\n",
    "import glob"
   ]
  },
  {
   "cell_type": "code",
   "execution_count": 27,
   "id": "023f7a53",
   "metadata": {},
   "outputs": [],
   "source": [
    "def get_csvs():\n",
    "    path = r'D:\\IRONHACK\\labs_projects\\Projects\\elections_2019\\data' \n",
    "\n",
    "    all_files = glob.glob(path + \"/*.csv\")\n",
    "\n",
    "    d = {os.path.splitext(os.path.basename(f))[0] : pd.read_csv(f) for f in glob.glob(\"/*.csv\")}\n",
    "    return d"
   ]
  },
  {
   "cell_type": "code",
   "execution_count": 28,
   "id": "b6bd1e4f",
   "metadata": {},
   "outputs": [
    {
     "data": {
      "text/plain": [
       "{}"
      ]
     },
     "execution_count": 28,
     "metadata": {},
     "output_type": "execute_result"
    }
   ],
   "source": [
    "get_csvs()"
   ]
  },
  {
   "cell_type": "code",
   "execution_count": null,
   "id": "62869d66",
   "metadata": {},
   "outputs": [],
   "source": []
  }
 ],
 "metadata": {
  "kernelspec": {
   "display_name": "Python [conda env:elec] *",
   "language": "python",
   "name": "conda-env-elec-py"
  },
  "language_info": {
   "codemirror_mode": {
    "name": "ipython",
    "version": 3
   },
   "file_extension": ".py",
   "mimetype": "text/x-python",
   "name": "python",
   "nbconvert_exporter": "python",
   "pygments_lexer": "ipython3",
   "version": "3.9.0"
  }
 },
 "nbformat": 4,
 "nbformat_minor": 5
}
