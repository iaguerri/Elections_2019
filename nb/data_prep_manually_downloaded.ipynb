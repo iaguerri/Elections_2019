{
 "cells": [
  {
   "cell_type": "markdown",
   "id": "32be969b",
   "metadata": {},
   "source": [
    "# Prepare data downloaded manually"
   ]
  },
  {
   "cell_type": "code",
   "execution_count": null,
   "id": "a7e2eaa2",
   "metadata": {},
   "outputs": [],
   "source": [
    "import pandas as pd\n",
    "import os"
   ]
  }
 ],
 "metadata": {
  "kernelspec": {
   "display_name": "Python [conda env:elec] *",
   "language": "python",
   "name": "conda-env-elec-py"
  },
  "language_info": {
   "codemirror_mode": {
    "name": "ipython",
    "version": 3
   },
   "file_extension": ".py",
   "mimetype": "text/x-python",
   "name": "python",
   "nbconvert_exporter": "python",
   "pygments_lexer": "ipython3",
   "version": "3.9.0"
  }
 },
 "nbformat": 4,
 "nbformat_minor": 5
}
