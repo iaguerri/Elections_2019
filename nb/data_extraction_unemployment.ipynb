{
 "cells": [
  {
   "cell_type": "markdown",
   "id": "59e6916b",
   "metadata": {},
   "source": [
    "# Data extraction - Unemployment"
   ]
  },
  {
   "cell_type": "code",
   "execution_count": 106,
   "id": "e2949eab",
   "metadata": {},
   "outputs": [],
   "source": [
    "import pandas as pd\n",
    "import warnings\n",
    "warnings.filterwarnings('ignore')\n",
    "import os\n",
    "import glob\n",
    "from selenium import webdriver\n",
    "from webdriver_manager.chrome import ChromeDriverManager\n",
    "import time\n",
    "from io import StringIO\n",
    "import shutil"
   ]
  },
  {
   "cell_type": "code",
   "execution_count": 107,
   "id": "3b60ce9c",
   "metadata": {
    "scrolled": true
   },
   "outputs": [
    {
     "name": "stdout",
     "output_type": "stream",
     "text": [
      "\n"
     ]
    },
    {
     "name": "stderr",
     "output_type": "stream",
     "text": [
      "[WDM] - ====== WebDriver manager ======\n",
      "[WDM] - Current google-chrome version is 103.0.5060\n",
      "[WDM] - Get LATEST chromedriver version for 103.0.5060 google-chrome\n",
      "[WDM] - Driver [C:\\Users\\Irene Aguerri\\.wdm\\drivers\\chromedriver\\win32\\103.0.5060.53\\chromedriver.exe] found in cache\n"
     ]
    }
   ],
   "source": [
    "PATH=ChromeDriverManager().install()"
   ]
  },
  {
   "cell_type": "code",
   "execution_count": 108,
   "id": "fb0c84c9",
   "metadata": {},
   "outputs": [],
   "source": [
    "portal_gob = 'https://datos.gob.es/es/catalogo'\n",
    "texto = 'Paro Registrado por municipios'\n",
    "\n",
    "driver = webdriver.Chrome(PATH)\n",
    "\n",
    "driver.get(portal_gob)"
   ]
  },
  {
   "cell_type": "code",
   "execution_count": 105,
   "id": "526ccc5a",
   "metadata": {
    "scrolled": true
   },
   "outputs": [
    {
     "name": "stdout",
     "output_type": "stream",
     "text": [
      "Moved to location done\n"
     ]
    }
   ],
   "source": [
    "try:\n",
    "    catalogo_input=driver.find_element_by_xpath('//*[@id=\"search_bar\"]')\n",
    "    catalogo_input.send_keys(texto)\n",
    "    catalogo=driver.find_element_by_xpath('//*[@id=\"search\"]')\n",
    "    catalogo.click()\n",
    "    time.sleep(2)\n",
    "    paro_pagina= driver.find_element_by_xpath('/html/body/div[3]/main/div/div/div/div[3]/div/section/div[1]/div/ul/li[1]/div/strong')\n",
    "    paro_pagina.click()\n",
    "    time.sleep(2)\n",
    "    paro_link= driver.find_element_by_xpath('/html/body/div[3]/main/div/div/div/div[3]/div/article/div/section[4]/ul/li[40]/div[5]/a')\n",
    "    paro_link.click()\n",
    "    time.sleep(2)\n",
    "    list_of_files = glob.glob(r'C:\\Users\\Irene Aguerri\\Downloads\\*.csv') # * means all if need specific format then *.csv\n",
    "    latest_file = max(list_of_files, key=os.path.getctime)\n",
    "    destination = 'D:\\IRONHACK\\labs_projects\\Projects\\elections_2019\\data'\n",
    "    new_file_name = 'D:\\IRONHACK\\labs_projects\\Projects\\elections_2019\\data\\Paro_municipios_2019.csv\n",
    "    shutil.move(latest_file, destination)\n",
    "    os.rename(destination, new_file_name)\n",
    "    print('Moved to location done')\n",
    "except:\n",
    "    print('mal')"
   ]
  }
 ],
 "metadata": {
  "kernelspec": {
   "display_name": "Python [conda env:elec] *",
   "language": "python",
   "name": "conda-env-elec-py"
  },
  "language_info": {
   "codemirror_mode": {
    "name": "ipython",
    "version": 3
   },
   "file_extension": ".py",
   "mimetype": "text/x-python",
   "name": "python",
   "nbconvert_exporter": "python",
   "pygments_lexer": "ipython3",
   "version": "3.9.0"
  }
 },
 "nbformat": 4,
 "nbformat_minor": 5
}
