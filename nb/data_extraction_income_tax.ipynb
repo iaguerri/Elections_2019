{
 "cells": [
  {
   "cell_type": "markdown",
   "id": "334a5b72",
   "metadata": {},
   "source": [
    "# Data extraction - Income tax"
   ]
  },
  {
   "cell_type": "code",
   "execution_count": 446,
   "id": "abcd9147",
   "metadata": {},
   "outputs": [],
   "source": [
    "import time\n",
    "import re\n",
    "import pandas as pd\n",
    "import warnings\n",
    "warnings.filterwarnings('ignore')\n",
    "import requests as req\n",
    "from bs4 import BeautifulSoup as bs \n",
    "import unicodedata\n",
    "from functools import reduce\n"
   ]
  },
  {
   "cell_type": "markdown",
   "id": "dd0abb14",
   "metadata": {},
   "source": [
    "-----------------------------"
   ]
  },
  {
   "cell_type": "markdown",
   "id": "14b37644",
   "metadata": {},
   "source": [
    "## Beautiful Soup -  Spanish Tax Agency"
   ]
  },
  {
   "cell_type": "code",
   "execution_count": 447,
   "id": "4c405de4",
   "metadata": {},
   "outputs": [],
   "source": [
    "url_scraping= \"https://www.agenciatributaria.es/AEAT/Contenidos_Comunes/La_Agencia_Tributaria/Estadisticas/Publicaciones/sites/irpfmunicipios/2019/jrubikf74b3dca9af01b51cabd6d5603e0e16daecd1a97c.html\""
   ]
  },
  {
   "cell_type": "code",
   "execution_count": 448,
   "id": "16f1e0f4",
   "metadata": {},
   "outputs": [],
   "source": [
    "html=req.get(url_scraping).content\n",
    "\n",
    "soup=bs(html, 'html.parser')\n",
    "\n",
    "tabla=soup.find_all('table')  # find_all(tag)"
   ]
  },
  {
   "cell_type": "code",
   "execution_count": 449,
   "id": "7b712106",
   "metadata": {},
   "outputs": [],
   "source": [
    "columnas=[e.text.strip() for e in tabla[0].find_all('th')]"
   ]
  },
  {
   "cell_type": "markdown",
   "id": "f7dd1930",
   "metadata": {},
   "source": [
    "#### Get namecols \"RENTA BRUTA MEDIA , RENTA DISPONIBLE MEDIA'"
   ]
  },
  {
   "cell_type": "code",
   "execution_count": 450,
   "id": "171c094d",
   "metadata": {},
   "outputs": [
    {
     "data": {
      "text/plain": [
       "['RENTA BRUTA MEDIA', 'RENTA DISPONIBLEMEDIA']"
      ]
     },
     "execution_count": 450,
     "metadata": {},
     "output_type": "execute_result"
    }
   ],
   "source": [
    "cols = columnas[6:8]\n",
    "cols"
   ]
  },
  {
   "cell_type": "code",
   "execution_count": 451,
   "id": "a5d6d59c",
   "metadata": {},
   "outputs": [],
   "source": [
    "cols_ccaa = [item.replace('RENTA BRUTA MEDIA','renta_bruta_media').replace('RENTA DISPONIBLEMEDIA', 'renta_disponible_media') for item in cols]\n",
    "cols_ccaa.insert(0, \"ccaa\")"
   ]
  },
  {
   "cell_type": "code",
   "execution_count": 452,
   "id": "9a32717c",
   "metadata": {},
   "outputs": [],
   "source": [
    "cols_provincias=[item.replace('RENTA BRUTA MEDIA','renta_bruta_media').replace('RENTA DISPONIBLEMEDIA', 'renta_disponible_media') for item in cols]\n",
    "cols_provincias.insert(0, \"provincia\")"
   ]
  },
  {
   "cell_type": "markdown",
   "id": "81dd9c3d",
   "metadata": {},
   "source": [
    "#### Get CCAA Data (except Pais Vasco and Navarra)"
   ]
  },
  {
   "cell_type": "code",
   "execution_count": 453,
   "id": "7537ee02",
   "metadata": {},
   "outputs": [],
   "source": [
    "ccaa_renta_bruta_media = []\n",
    "ccaa_renta_disponible_media = []\n",
    "ccaa=[]"
   ]
  },
  {
   "cell_type": "code",
   "execution_count": 454,
   "id": "f395c85e",
   "metadata": {
    "scrolled": false
   },
   "outputs": [],
   "source": [
    "#Get data for CCAA\n",
    "for table in soup.find_all(\"tr\", class_=\"depth_1\"):\n",
    "    ccaa.append(table.find_all('th')[0].text)\n",
    "    rb=table.find('td', {'headers': 'table01_c6'})\n",
    "    ccaa_renta_bruta_media.append(rb.text)\n",
    "    rm=table.find('td', {'headers': 'table01_c7'})\n",
    "    ccaa_renta_disponible_media.append(rm.text)"
   ]
  },
  {
   "cell_type": "code",
   "execution_count": 455,
   "id": "731f6486",
   "metadata": {},
   "outputs": [],
   "source": [
    "#Erase characters\n",
    "ccaa=[el.replace(u'\\xa0','') for el in ccaa]\n",
    "ccaa=[el.strip() for el in ccaa]"
   ]
  },
  {
   "cell_type": "markdown",
   "id": "6ee9d238",
   "metadata": {},
   "source": [
    "### Get data from provinces"
   ]
  },
  {
   "cell_type": "code",
   "execution_count": 456,
   "id": "7733b5da",
   "metadata": {},
   "outputs": [],
   "source": [
    "provinces_table = soup.findAll(class_= 'depth_2') "
   ]
  },
  {
   "cell_type": "code",
   "execution_count": 457,
   "id": "d2eb1c0f",
   "metadata": {},
   "outputs": [],
   "source": [
    "provincias_renta_bruta_media = []\n",
    "provincias_renta_disponible_media = []\n",
    "provincias=[]"
   ]
  },
  {
   "cell_type": "code",
   "execution_count": 458,
   "id": "dc32c912",
   "metadata": {},
   "outputs": [],
   "source": [
    "for table in soup.find_all('tr', class_='depth_2'):\n",
    "    provincias.append(table.find_all('th')[0].text)\n",
    "    provincias_renta_bruta_media.append(table.find('td', {'headers': 'table01_c6'}).text)\n",
    "    provincias_renta_disponible_media.append(table.find('td', {'headers': 'table01_c7'}).text)"
   ]
  },
  {
   "cell_type": "code",
   "execution_count": 459,
   "id": "411ffeef",
   "metadata": {},
   "outputs": [],
   "source": [
    "#Erase characters\n",
    "provincias=[el.replace(u'\\xa0','') for el in provincias]\n",
    "provincias=[el.strip() for el in provincias]"
   ]
  },
  {
   "cell_type": "code",
   "execution_count": null,
   "id": "59fbbefe",
   "metadata": {},
   "outputs": [],
   "source": []
  },
  {
   "cell_type": "markdown",
   "id": "774f0ea4",
   "metadata": {},
   "source": [
    "---------------------------"
   ]
  },
  {
   "cell_type": "markdown",
   "id": "3921b400",
   "metadata": {},
   "source": [
    "#### Get Pais Vasco data\n"
   ]
  },
  {
   "cell_type": "code",
   "execution_count": 460,
   "id": "e6f68891",
   "metadata": {},
   "outputs": [],
   "source": [
    "url_PV = 'https://www.eustat.eus/elementos/ele0005700/renta-personal-media-de-la-c-a-de-euskadi-por-ambitos-territoriales-segun-tipo-de-renta-euros/tbl0005790_c.html'"
   ]
  },
  {
   "cell_type": "code",
   "execution_count": 461,
   "id": "8c53c9b7",
   "metadata": {},
   "outputs": [],
   "source": [
    "html=req.get(url_PV).content\n",
    "\n",
    "soup=bs(html, 'html.parser')\n",
    "\n",
    "tabla_e=soup.find_all('table')"
   ]
  },
  {
   "cell_type": "code",
   "execution_count": 462,
   "id": "854348fb",
   "metadata": {},
   "outputs": [],
   "source": [
    "#rb=table.find_all('td', {'class': 'td8Bold'})[-1].text Coger el ultimo"
   ]
  },
  {
   "cell_type": "code",
   "execution_count": 463,
   "id": "150eadfb",
   "metadata": {},
   "outputs": [],
   "source": [
    "for i,table in enumerate(soup.find_all(\"tr\", class_=\"Nivel3B\")):\n",
    "    if i==0:\n",
    "        ccaa.append(table.find('td').text)\n",
    "        ccaa_renta_bruta_media.append(table.find('td', {'class': 'td8Bold'}).text)\n",
    "        ccaa_renta_disponible_media.append(table.find_all('td', {'class': 'td8Bold'})[-1].text)\n",
    "\n",
    "    elif i==1:\n",
    "        provincias.append(table.find('td').text)\n",
    "        provincias_renta_bruta_media.append(table.find('td', {'class': 'td8'}).text)\n",
    "        provincias_renta_disponible_media.append(table.find_all('td', {'class': 'td8'})[-1].text)\n",
    "\n",
    "    elif i==2:\n",
    "        provincias.append(table.find('td').text)\n",
    "        provincias_renta_bruta_media.append(table.find('td', {'class': 'td8'}).text)\n",
    "        provincias_renta_disponible_media.append(table.find_all('td', {'class': 'td8'})[-1].text)\n",
    "    \n",
    "    elif i==3:\n",
    "        provincias.append(table.find('td').text)\n",
    "        provincias_renta_bruta_media.append(table.find('td', {'class': 'td8'}).text)\n",
    "        provincias_renta_disponible_media.append(table.find_all('td', {'class': 'td8'})[-1].text)"
   ]
  },
  {
   "cell_type": "code",
   "execution_count": 464,
   "id": "c04dbc74",
   "metadata": {},
   "outputs": [],
   "source": [
    "ccaa[-1]='Pais Vasco'"
   ]
  },
  {
   "cell_type": "code",
   "execution_count": 465,
   "id": "8e52c394",
   "metadata": {},
   "outputs": [],
   "source": [
    "ccaa=[el.replace(u'\\xa0','') for el in ccaa]\n",
    "ccaa=[el.strip() for el in ccaa]"
   ]
  },
  {
   "cell_type": "code",
   "execution_count": 466,
   "id": "d310379c",
   "metadata": {},
   "outputs": [],
   "source": [
    "provincias=[el.replace(u'\\xa0','') for el in provincias]\n",
    "provincias=[el.strip() for el in provincias]"
   ]
  },
  {
   "cell_type": "markdown",
   "id": "b402572f",
   "metadata": {},
   "source": [
    "---------------------------"
   ]
  },
  {
   "cell_type": "markdown",
   "id": "19de4a63",
   "metadata": {},
   "source": [
    "#### Get Navarra data"
   ]
  },
  {
   "cell_type": "code",
   "execution_count": 467,
   "id": "04893c8e",
   "metadata": {},
   "outputs": [],
   "source": [
    "ccaa.insert(20,'Navarra')\n",
    "ccaa_renta_disponible_media.append(13.394)\n",
    "ccaa_renta_bruta_media.append(16.300)"
   ]
  },
  {
   "cell_type": "code",
   "execution_count": 468,
   "id": "d6a209e6",
   "metadata": {},
   "outputs": [],
   "source": [
    "provincias.insert(53,'Navarra')\n",
    "provincias_renta_bruta_media.append(13.394)\n",
    "provincias_renta_disponible_media.append(16.300)"
   ]
  },
  {
   "cell_type": "code",
   "execution_count": 469,
   "id": "ab10a5ca",
   "metadata": {},
   "outputs": [],
   "source": [
    "df_ccaa_renta = pd.DataFrame(zip(ccaa, ccaa_renta_bruta_media,ccaa_renta_disponible_media),\n",
    "               columns =[cols_ccaa])"
   ]
  },
  {
   "cell_type": "code",
   "execution_count": 470,
   "id": "308f30ee",
   "metadata": {},
   "outputs": [],
   "source": [
    "df_provincias_renta = pd.DataFrame(zip(provincias, provincias_renta_bruta_media,provincias_renta_disponible_media),\n",
    "               columns =[cols_provincias])"
   ]
  },
  {
   "cell_type": "code",
   "execution_count": 479,
   "id": "f889aec8",
   "metadata": {
    "scrolled": false
   },
   "outputs": [],
   "source": [
    "df_ccaa_renta.to_csv('../data/ccaa_renta.csv', encoding='latin1', index=False)"
   ]
  },
  {
   "cell_type": "code",
   "execution_count": 480,
   "id": "5fe1ed24",
   "metadata": {
    "scrolled": false
   },
   "outputs": [],
   "source": [
    "df_provincias_renta.to_csv('../data/provincias_renta.csv', encoding='latin1', index=False)"
   ]
  }
 ],
 "metadata": {
  "kernelspec": {
   "display_name": "Python [conda env:elec] *",
   "language": "python",
   "name": "conda-env-elec-py"
  },
  "language_info": {
   "codemirror_mode": {
    "name": "ipython",
    "version": 3
   },
   "file_extension": ".py",
   "mimetype": "text/x-python",
   "name": "python",
   "nbconvert_exporter": "python",
   "pygments_lexer": "ipython3",
   "version": "3.9.0"
  }
 },
 "nbformat": 4,
 "nbformat_minor": 5
}
